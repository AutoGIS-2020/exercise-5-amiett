{
 "cells": [
  {
   "cell_type": "markdown",
   "metadata": {},
   "source": [
    "# Problem 1\n",
    "A static map of cycling accidents in Helsinki"
   ]
  },
  {
   "cell_type": "code",
   "execution_count": 1,
   "metadata": {},
   "outputs": [],
   "source": [
    "import pandas as pd\n",
    "import geopandas as gpd\n",
    "from pyproj import CRS\n",
    "import matplotlib.pyplot as plt\n",
    "from shapely.geometry import Point\n",
    "import folium\n",
    "from folium.plugins import HeatMap"
   ]
  },
  {
   "cell_type": "code",
   "execution_count": 2,
   "metadata": {},
   "outputs": [],
   "source": [
    "# Import the data, select columns that are needed\n",
    "fp =\"data/tieliikenneonnettomuudet_2019_onnettomuus.csv\"\n",
    "data = pd.read_csv(fp, delimiter=\";\", usecols=[\"Onnett_id\", \"X\", \"Y\", \"Vakavuusko\", \"Vakavuus\", \"Onluokka\", \"Kuntasel\", \"Ontyyppi\", \"Ontyypsel\", \"Päivä\"])\n",
    "\n",
    "\n",
    "\n"
   ]
  },
  {
   "cell_type": "code",
   "execution_count": 3,
   "metadata": {},
   "outputs": [],
   "source": [
    "fp2 = \"data/l_tiesto.shp\"\n",
    "roads = gpd.read_file(fp2)\n",
    "\n",
    "fp3 = \"data/m_meri_region.shp\"\n",
    "sea = gpd.read_file(fp3)"
   ]
  },
  {
   "cell_type": "code",
   "execution_count": 4,
   "metadata": {},
   "outputs": [
    {
     "data": {
      "text/plain": [
       "Onnett_id       int64\n",
       "Päivä          object\n",
       "Vakavuusko      int64\n",
       "Vakavuus       object\n",
       "Ontyyppi        int64\n",
       "Ontyypsel      object\n",
       "Onluokka        int64\n",
       "Kuntasel       object\n",
       "X             float64\n",
       "Y             float64\n",
       "dtype: object"
      ]
     },
     "execution_count": 4,
     "metadata": {},
     "output_type": "execute_result"
    }
   ],
   "source": [
    "data.dtypes"
   ]
  },
  {
   "cell_type": "code",
   "execution_count": null,
   "metadata": {},
   "outputs": [],
   "source": []
  },
  {
   "cell_type": "code",
   "execution_count": 5,
   "metadata": {},
   "outputs": [
    {
     "data": {
      "text/html": [
       "<div>\n",
       "<style scoped>\n",
       "    .dataframe tbody tr th:only-of-type {\n",
       "        vertical-align: middle;\n",
       "    }\n",
       "\n",
       "    .dataframe tbody tr th {\n",
       "        vertical-align: top;\n",
       "    }\n",
       "\n",
       "    .dataframe thead th {\n",
       "        text-align: right;\n",
       "    }\n",
       "</style>\n",
       "<table border=\"1\" class=\"dataframe\">\n",
       "  <thead>\n",
       "    <tr style=\"text-align: right;\">\n",
       "      <th></th>\n",
       "      <th>Onnett_id</th>\n",
       "      <th>Päivä</th>\n",
       "      <th>Vakavuusko</th>\n",
       "      <th>Vakavuus</th>\n",
       "      <th>Ontyyppi</th>\n",
       "      <th>Ontyypsel</th>\n",
       "      <th>Onluokka</th>\n",
       "      <th>Kuntasel</th>\n",
       "      <th>X</th>\n",
       "      <th>Y</th>\n",
       "    </tr>\n",
       "  </thead>\n",
       "  <tbody>\n",
       "    <tr>\n",
       "      <th>0</th>\n",
       "      <td>9332527</td>\n",
       "      <td>05.02.2019</td>\n",
       "      <td>0</td>\n",
       "      <td>Ei henkilövahinkoja</td>\n",
       "      <td>8</td>\n",
       "      <td>peräänajo liikenne-esteen takia pysäht. ajoneu...</td>\n",
       "      <td>6</td>\n",
       "      <td>Helsinki</td>\n",
       "      <td>382577.0</td>\n",
       "      <td>6675844.0</td>\n",
       "    </tr>\n",
       "    <tr>\n",
       "      <th>1</th>\n",
       "      <td>9343914</td>\n",
       "      <td>12.06.2019</td>\n",
       "      <td>0</td>\n",
       "      <td>Ei henkilövahinkoja</td>\n",
       "      <td>81</td>\n",
       "      <td>suistuminen vasemmalle suoralla</td>\n",
       "      <td>1</td>\n",
       "      <td>Helsinki</td>\n",
       "      <td>382543.0</td>\n",
       "      <td>6675979.0</td>\n",
       "    </tr>\n",
       "    <tr>\n",
       "      <th>2</th>\n",
       "      <td>9398457</td>\n",
       "      <td>13.09.2019</td>\n",
       "      <td>0</td>\n",
       "      <td>Ei henkilövahinkoja</td>\n",
       "      <td>8</td>\n",
       "      <td>peräänajo liikenne-esteen takia pysäht. ajoneu...</td>\n",
       "      <td>6</td>\n",
       "      <td>Helsinki</td>\n",
       "      <td>382542.0</td>\n",
       "      <td>6675979.0</td>\n",
       "    </tr>\n",
       "    <tr>\n",
       "      <th>3</th>\n",
       "      <td>9398382</td>\n",
       "      <td>22.09.2019</td>\n",
       "      <td>0</td>\n",
       "      <td>Ei henkilövahinkoja</td>\n",
       "      <td>8</td>\n",
       "      <td>peräänajo liikenne-esteen takia pysäht. ajoneu...</td>\n",
       "      <td>6</td>\n",
       "      <td>Helsinki</td>\n",
       "      <td>382540.0</td>\n",
       "      <td>6675979.0</td>\n",
       "    </tr>\n",
       "    <tr>\n",
       "      <th>4</th>\n",
       "      <td>9533397</td>\n",
       "      <td>06.12.2019</td>\n",
       "      <td>0</td>\n",
       "      <td>Ei henkilövahinkoja</td>\n",
       "      <td>82</td>\n",
       "      <td>suistuminen oik. oikealle kääntyvässä kaarteessa</td>\n",
       "      <td>1</td>\n",
       "      <td>Helsinki</td>\n",
       "      <td>382491.0</td>\n",
       "      <td>6675945.0</td>\n",
       "    </tr>\n",
       "    <tr>\n",
       "      <th>...</th>\n",
       "      <td>...</td>\n",
       "      <td>...</td>\n",
       "      <td>...</td>\n",
       "      <td>...</td>\n",
       "      <td>...</td>\n",
       "      <td>...</td>\n",
       "      <td>...</td>\n",
       "      <td>...</td>\n",
       "      <td>...</td>\n",
       "      <td>...</td>\n",
       "    </tr>\n",
       "    <tr>\n",
       "      <th>15292</th>\n",
       "      <td>9534641</td>\n",
       "      <td>27.12.2019</td>\n",
       "      <td>2</td>\n",
       "      <td>Loukkaantumiseen johtanut</td>\n",
       "      <td>80</td>\n",
       "      <td>suistuminen oikealle suoralla</td>\n",
       "      <td>1</td>\n",
       "      <td>Muonio</td>\n",
       "      <td>361920.0</td>\n",
       "      <td>7539419.0</td>\n",
       "    </tr>\n",
       "    <tr>\n",
       "      <th>15293</th>\n",
       "      <td>9534611</td>\n",
       "      <td>28.12.2019</td>\n",
       "      <td>2</td>\n",
       "      <td>Loukkaantumiseen johtanut</td>\n",
       "      <td>83</td>\n",
       "      <td>suistuminen vas. oikealle kääntyvässä kaarteessa</td>\n",
       "      <td>1</td>\n",
       "      <td>Sastamala</td>\n",
       "      <td>293592.0</td>\n",
       "      <td>6811639.0</td>\n",
       "    </tr>\n",
       "    <tr>\n",
       "      <th>15294</th>\n",
       "      <td>9533505</td>\n",
       "      <td>29.12.2019</td>\n",
       "      <td>2</td>\n",
       "      <td>Loukkaantumiseen johtanut</td>\n",
       "      <td>96</td>\n",
       "      <td>peruutusonnettomuus</td>\n",
       "      <td>13</td>\n",
       "      <td>Vantaa</td>\n",
       "      <td>394062.0</td>\n",
       "      <td>6692018.0</td>\n",
       "    </tr>\n",
       "    <tr>\n",
       "      <th>15295</th>\n",
       "      <td>9533827</td>\n",
       "      <td>30.12.2019</td>\n",
       "      <td>0</td>\n",
       "      <td>Ei henkilövahinkoja</td>\n",
       "      <td>96</td>\n",
       "      <td>peruutusonnettomuus</td>\n",
       "      <td>1</td>\n",
       "      <td>Kuopio</td>\n",
       "      <td>514489.0</td>\n",
       "      <td>6973933.0</td>\n",
       "    </tr>\n",
       "    <tr>\n",
       "      <th>15296</th>\n",
       "      <td>9533353</td>\n",
       "      <td>30.12.2019</td>\n",
       "      <td>0</td>\n",
       "      <td>Ei henkilövahinkoja</td>\n",
       "      <td>11</td>\n",
       "      <td>muu törmäys käännyttäessä oikealle</td>\n",
       "      <td>2</td>\n",
       "      <td>Vaasa</td>\n",
       "      <td>228574.0</td>\n",
       "      <td>7007564.0</td>\n",
       "    </tr>\n",
       "  </tbody>\n",
       "</table>\n",
       "<p>15297 rows × 10 columns</p>\n",
       "</div>"
      ],
      "text/plain": [
       "       Onnett_id       Päivä  Vakavuusko                   Vakavuus  Ontyyppi  \\\n",
       "0        9332527  05.02.2019           0        Ei henkilövahinkoja         8   \n",
       "1        9343914  12.06.2019           0        Ei henkilövahinkoja        81   \n",
       "2        9398457  13.09.2019           0        Ei henkilövahinkoja         8   \n",
       "3        9398382  22.09.2019           0        Ei henkilövahinkoja         8   \n",
       "4        9533397  06.12.2019           0        Ei henkilövahinkoja        82   \n",
       "...          ...         ...         ...                        ...       ...   \n",
       "15292    9534641  27.12.2019           2  Loukkaantumiseen johtanut        80   \n",
       "15293    9534611  28.12.2019           2  Loukkaantumiseen johtanut        83   \n",
       "15294    9533505  29.12.2019           2  Loukkaantumiseen johtanut        96   \n",
       "15295    9533827  30.12.2019           0        Ei henkilövahinkoja        96   \n",
       "15296    9533353  30.12.2019           0        Ei henkilövahinkoja        11   \n",
       "\n",
       "                                               Ontyypsel  Onluokka   Kuntasel  \\\n",
       "0      peräänajo liikenne-esteen takia pysäht. ajoneu...         6   Helsinki   \n",
       "1                       suistuminen vasemmalle suoralla          1   Helsinki   \n",
       "2      peräänajo liikenne-esteen takia pysäht. ajoneu...         6   Helsinki   \n",
       "3      peräänajo liikenne-esteen takia pysäht. ajoneu...         6   Helsinki   \n",
       "4       suistuminen oik. oikealle kääntyvässä kaarteessa         1   Helsinki   \n",
       "...                                                  ...       ...        ...   \n",
       "15292                     suistuminen oikealle suoralla          1     Muonio   \n",
       "15293   suistuminen vas. oikealle kääntyvässä kaarteessa         1  Sastamala   \n",
       "15294                                peruutusonnettomuus        13     Vantaa   \n",
       "15295                                peruutusonnettomuus         1     Kuopio   \n",
       "15296                muu törmäys käännyttäessä oikealle          2      Vaasa   \n",
       "\n",
       "              X          Y  \n",
       "0      382577.0  6675844.0  \n",
       "1      382543.0  6675979.0  \n",
       "2      382542.0  6675979.0  \n",
       "3      382540.0  6675979.0  \n",
       "4      382491.0  6675945.0  \n",
       "...         ...        ...  \n",
       "15292  361920.0  7539419.0  \n",
       "15293  293592.0  6811639.0  \n",
       "15294  394062.0  6692018.0  \n",
       "15295  514489.0  6973933.0  \n",
       "15296  228574.0  7007564.0  \n",
       "\n",
       "[15297 rows x 10 columns]"
      ]
     },
     "execution_count": 5,
     "metadata": {},
     "output_type": "execute_result"
    }
   ],
   "source": [
    "data\n"
   ]
  },
  {
   "cell_type": "code",
   "execution_count": 6,
   "metadata": {},
   "outputs": [],
   "source": [
    "# Select only bicycle accidents (Onluokka=8) that have happenede in Helsinki, Espoo, Vantaa or Kauniainen\n",
    "\n",
    "# Create a list for the municipalities on the map\n",
    "municipalities = [\"Helsinki\", \"Espoo\", \"Vantaa\", \"Kauniainen\"]\n",
    "\n",
    "# Filter the data by acciden type and municipality\n",
    "#data = data.loc[data[\"Kuntasel\"].isin(municipalities)]\n",
    "\n",
    "cycling = data.loc[data[\"Onluokka\"]==8]\n",
    "#walking = data.loc[data[\"Onluokka\"]==9]\n"
   ]
  },
  {
   "cell_type": "code",
   "execution_count": 21,
   "metadata": {},
   "outputs": [],
   "source": [
    "def vakavuusko_to_colour(severity):\n",
    "    \"\"\"Determines colour by accident severity to use in marker colour\"\"\"\n",
    "    #defaul colour\n",
    "    colour = \"grey\"\n",
    "    \n",
    "    if severity == 0:\n",
    "        colour = \"yellow\"\n",
    "    elif severity == 1:\n",
    "        colour = \"red\"\n",
    "    elif severity == 2:\n",
    "        colour = \"orange\"\n",
    "    return colour    \n",
    "        \n"
   ]
  },
  {
   "cell_type": "code",
   "execution_count": 9,
   "metadata": {},
   "outputs": [
    {
     "ename": "ValueError",
     "evalue": "The truth value of a Series is ambiguous. Use a.empty, a.bool(), a.item(), a.any() or a.all().",
     "output_type": "error",
     "traceback": [
      "\u001b[0;31m---------------------------------------------------------------------------\u001b[0m",
      "\u001b[0;31mValueError\u001b[0m                                Traceback (most recent call last)",
      "\u001b[0;32m<ipython-input-9-27c54557efed>\u001b[0m in \u001b[0;36m<module>\u001b[0;34m\u001b[0m\n\u001b[0;32m----> 1\u001b[0;31m \u001b[0mcycling\u001b[0m\u001b[0;34m[\u001b[0m\u001b[0;34m\"sev_color\"\u001b[0m\u001b[0;34m]\u001b[0m \u001b[0;34m=\u001b[0m \u001b[0mcycling\u001b[0m\u001b[0;34m.\u001b[0m\u001b[0mapply\u001b[0m\u001b[0;34m(\u001b[0m\u001b[0mvakavuusko_to_colour\u001b[0m\u001b[0;34m(\u001b[0m\u001b[0mcycling\u001b[0m\u001b[0;34m[\u001b[0m\u001b[0;34m\"Vakavuusko\"\u001b[0m\u001b[0;34m]\u001b[0m\u001b[0;34m)\u001b[0m\u001b[0;34m,\u001b[0m \u001b[0maxis\u001b[0m\u001b[0;34m=\u001b[0m\u001b[0;36m1\u001b[0m\u001b[0;34m)\u001b[0m\u001b[0;34m\u001b[0m\u001b[0;34m\u001b[0m\u001b[0m\n\u001b[0m",
      "\u001b[0;32m<ipython-input-8-f468b7859628>\u001b[0m in \u001b[0;36mvakavuusko_to_colour\u001b[0;34m(vakavuusko)\u001b[0m\n\u001b[1;32m      4\u001b[0m     \u001b[0mcolour\u001b[0m \u001b[0;34m=\u001b[0m \u001b[0;34m\"grey\"\u001b[0m\u001b[0;34m\u001b[0m\u001b[0;34m\u001b[0m\u001b[0m\n\u001b[1;32m      5\u001b[0m \u001b[0;34m\u001b[0m\u001b[0m\n\u001b[0;32m----> 6\u001b[0;31m     \u001b[0;32mif\u001b[0m \u001b[0mvakavuusko\u001b[0m \u001b[0;34m==\u001b[0m \u001b[0;36m0\u001b[0m\u001b[0;34m:\u001b[0m\u001b[0;34m\u001b[0m\u001b[0;34m\u001b[0m\u001b[0m\n\u001b[0m\u001b[1;32m      7\u001b[0m         \u001b[0mcolour\u001b[0m \u001b[0;34m=\u001b[0m \u001b[0;34m\"yellow\"\u001b[0m\u001b[0;34m\u001b[0m\u001b[0;34m\u001b[0m\u001b[0m\n\u001b[1;32m      8\u001b[0m     \u001b[0;32melif\u001b[0m \u001b[0mvakavuusko\u001b[0m \u001b[0;34m==\u001b[0m \u001b[0;36m1\u001b[0m\u001b[0;34m:\u001b[0m\u001b[0;34m\u001b[0m\u001b[0;34m\u001b[0m\u001b[0m\n",
      "\u001b[0;32m/opt/conda/lib/python3.8/site-packages/pandas/core/generic.py\u001b[0m in \u001b[0;36m__nonzero__\u001b[0;34m(self)\u001b[0m\n\u001b[1;32m   1327\u001b[0m \u001b[0;34m\u001b[0m\u001b[0m\n\u001b[1;32m   1328\u001b[0m     \u001b[0;32mdef\u001b[0m \u001b[0m__nonzero__\u001b[0m\u001b[0;34m(\u001b[0m\u001b[0mself\u001b[0m\u001b[0;34m)\u001b[0m\u001b[0;34m:\u001b[0m\u001b[0;34m\u001b[0m\u001b[0;34m\u001b[0m\u001b[0m\n\u001b[0;32m-> 1329\u001b[0;31m         raise ValueError(\n\u001b[0m\u001b[1;32m   1330\u001b[0m             \u001b[0;34mf\"The truth value of a {type(self).__name__} is ambiguous. \"\u001b[0m\u001b[0;34m\u001b[0m\u001b[0;34m\u001b[0m\u001b[0m\n\u001b[1;32m   1331\u001b[0m             \u001b[0;34m\"Use a.empty, a.bool(), a.item(), a.any() or a.all().\"\u001b[0m\u001b[0;34m\u001b[0m\u001b[0;34m\u001b[0m\u001b[0m\n",
      "\u001b[0;31mValueError\u001b[0m: The truth value of a Series is ambiguous. Use a.empty, a.bool(), a.item(), a.any() or a.all()."
     ]
    }
   ],
   "source": [
    "#cycling[\"sev_color\"] = cycling.apply(vakavuusko_to_colour(cycling[\"Vakavuusko\"]), axis=1)"
   ]
  },
  {
   "cell_type": "markdown",
   "metadata": {},
   "source": [
    "Turn the data into a geodataframe"
   ]
  },
  {
   "cell_type": "code",
   "execution_count": 23,
   "metadata": {},
   "outputs": [],
   "source": [
    "# Use function from geopandas for the task\n",
    "cycling_geo = gpd.GeoDataFrame(\n",
    "    cycling, geometry=gpd.points_from_xy(cycling.X, cycling.Y))\n",
    "\n",
    "# Set the crs for the gdf\n",
    "cycling_geo.crs = CRS.from_epsg(3067)"
   ]
  },
  {
   "cell_type": "code",
   "execution_count": 24,
   "metadata": {},
   "outputs": [
    {
     "name": "stdout",
     "output_type": "stream",
     "text": [
      "PROJCS[\"unnamed\",GEOGCS[\"GCS_unnamed\",DATUM[\"European_Terrestrial_Reference_Frame_1989\",SPHEROID[\"GRS_80\",6378137,298.257222101],AUTHORITY[\"EPSG\",\"1178\"]],PRIMEM[\"Greenwich\",0],UNIT[\"Degree\",0.0174532925199433]],PROJECTION[\"Transverse_Mercator_MapInfo_24\"],PARAMETER[\"latitude_of_origin\",0],PARAMETER[\"central_meridian\",25],PARAMETER[\"scale_factor\",1],PARAMETER[\"false_easting\",25500000],PARAMETER[\"false_northing\",0],UNIT[\"metre\",1,AUTHORITY[\"EPSG\",\"9001\"]],AXIS[\"Easting\",EAST],AXIS[\"Northing\",NORTH]]\n",
      "---\n",
      "PROJCS[\"ETRS89_ETRS_GK25FIN_2010\",GEOGCS[\"ETRS89\",DATUM[\"European_Terrestrial_Reference_System_1989\",SPHEROID[\"Geodetic_Reference_System_of_1980\",6378137,298.257222100892],AUTHORITY[\"EPSG\",\"6258\"]],PRIMEM[\"Greenwich\",0],UNIT[\"Degree\",0.0174532925199433],AUTHORITY[\"EPSG\",\"4258\"]],PROJECTION[\"Transverse_Mercator\"],PARAMETER[\"latitude_of_origin\",0],PARAMETER[\"central_meridian\",25],PARAMETER[\"scale_factor\",1],PARAMETER[\"false_easting\",25500000],PARAMETER[\"false_northing\",0],UNIT[\"metre\",1,AUTHORITY[\"EPSG\",\"9001\"]],AXIS[\"Easting\",EAST],AXIS[\"Northing\",NORTH]]\n",
      "---\n",
      "epsg:3067\n"
     ]
    }
   ],
   "source": [
    "print(roads.crs)\n",
    "print(\"---\")\n",
    "print(sea.crs)\n",
    "print(\"---\")\n",
    "print(cycling_geo.crs)"
   ]
  },
  {
   "cell_type": "code",
   "execution_count": 28,
   "metadata": {},
   "outputs": [],
   "source": [
    "# Sea and roads should be in the same crs already, so fetch the correct description for roads from sea.src\n",
    "roads.crs = sea.crs\n",
    "\n",
    "# Reproject cycling_geo\n",
    "cycling_geo = cycling_geo.to_crs(sea.crs)"
   ]
  },
  {
   "cell_type": "code",
   "execution_count": 29,
   "metadata": {},
   "outputs": [
    {
     "data": {
      "text/plain": [
       "True"
      ]
     },
     "execution_count": 29,
     "metadata": {},
     "output_type": "execute_result"
    }
   ],
   "source": [
    "# Check if all matches\n",
    "cycling_geo.crs == roads.crs == sea.crs"
   ]
  },
  {
   "cell_type": "code",
   "execution_count": null,
   "metadata": {},
   "outputs": [],
   "source": []
  }
 ],
 "metadata": {
  "kernelspec": {
   "display_name": "Python 3",
   "language": "python",
   "name": "python3"
  },
  "language_info": {
   "codemirror_mode": {
    "name": "ipython",
    "version": 3
   },
   "file_extension": ".py",
   "mimetype": "text/x-python",
   "name": "python",
   "nbconvert_exporter": "python",
   "pygments_lexer": "ipython3",
   "version": "3.8.6"
  }
 },
 "nbformat": 4,
 "nbformat_minor": 4
}
