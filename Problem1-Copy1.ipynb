{
 "cells": [
  {
   "cell_type": "markdown",
   "metadata": {},
   "source": [
    "# Problem 1\n",
    "A static map of cycling accidents in Helsinki"
   ]
  },
  {
   "cell_type": "code",
   "execution_count": 1,
   "metadata": {},
   "outputs": [],
   "source": [
    "import pandas as pd\n",
    "import geopandas as gpd\n",
    "from pyproj import CRS\n",
    "import matplotlib.pyplot as plt\n",
    "from shapely.geometry import Point\n",
    "import folium\n",
    "from folium.plugins import HeatMap"
   ]
  },
  {
   "cell_type": "code",
   "execution_count": 2,
   "metadata": {},
   "outputs": [],
   "source": [
    "# Import the data, select columns that are needed\n",
    "fp =\"data/tieliikenneonnettomuudet_2019_onnettomuus.csv\"\n",
    "data = pd.read_csv(fp, delimiter=\";\", usecols=[\"Onnett_id\", \"X\", \"Y\", \"Vakavuusko\", \"Vakavuus\", \"Onluokka\", \"Kuntasel\", \"Ontyyppi\", \"Ontyypsel\", \"Päivä\"])\n",
    "\n",
    "\n",
    "\n"
   ]
  },
  {
   "cell_type": "code",
   "execution_count": 3,
   "metadata": {},
   "outputs": [],
   "source": [
    "fp2 = \"data/l_tiesto.shp\"\n",
    "roads = gpd.read_file(fp2)\n",
    "\n",
    "fp3 = \"data/m_meri_region.shp\"\n",
    "sea = gpd.read_file(fp3)"
   ]
  },
  {
   "cell_type": "code",
   "execution_count": 4,
   "metadata": {},
   "outputs": [
    {
     "data": {
      "text/plain": [
       "Onnett_id       int64\n",
       "Päivä          object\n",
       "Vakavuusko      int64\n",
       "Vakavuus       object\n",
       "Ontyyppi        int64\n",
       "Ontyypsel      object\n",
       "Onluokka        int64\n",
       "Kuntasel       object\n",
       "X             float64\n",
       "Y             float64\n",
       "dtype: object"
      ]
     },
     "execution_count": 4,
     "metadata": {},
     "output_type": "execute_result"
    }
   ],
   "source": [
    "data.dtypes"
   ]
  },
  {
   "cell_type": "code",
   "execution_count": null,
   "metadata": {},
   "outputs": [],
   "source": []
  },
  {
   "cell_type": "code",
   "execution_count": 5,
   "metadata": {},
   "outputs": [
    {
     "data": {
      "text/html": [
       "<div>\n",
       "<style scoped>\n",
       "    .dataframe tbody tr th:only-of-type {\n",
       "        vertical-align: middle;\n",
       "    }\n",
       "\n",
       "    .dataframe tbody tr th {\n",
       "        vertical-align: top;\n",
       "    }\n",
       "\n",
       "    .dataframe thead th {\n",
       "        text-align: right;\n",
       "    }\n",
       "</style>\n",
       "<table border=\"1\" class=\"dataframe\">\n",
       "  <thead>\n",
       "    <tr style=\"text-align: right;\">\n",
       "      <th></th>\n",
       "      <th>Onnett_id</th>\n",
       "      <th>Päivä</th>\n",
       "      <th>Vakavuusko</th>\n",
       "      <th>Vakavuus</th>\n",
       "      <th>Ontyyppi</th>\n",
       "      <th>Ontyypsel</th>\n",
       "      <th>Onluokka</th>\n",
       "      <th>Kuntasel</th>\n",
       "      <th>X</th>\n",
       "      <th>Y</th>\n",
       "    </tr>\n",
       "  </thead>\n",
       "  <tbody>\n",
       "    <tr>\n",
       "      <th>0</th>\n",
       "      <td>9332527</td>\n",
       "      <td>05.02.2019</td>\n",
       "      <td>0</td>\n",
       "      <td>Ei henkilövahinkoja</td>\n",
       "      <td>8</td>\n",
       "      <td>peräänajo liikenne-esteen takia pysäht. ajoneu...</td>\n",
       "      <td>6</td>\n",
       "      <td>Helsinki</td>\n",
       "      <td>382577.0</td>\n",
       "      <td>6675844.0</td>\n",
       "    </tr>\n",
       "    <tr>\n",
       "      <th>1</th>\n",
       "      <td>9343914</td>\n",
       "      <td>12.06.2019</td>\n",
       "      <td>0</td>\n",
       "      <td>Ei henkilövahinkoja</td>\n",
       "      <td>81</td>\n",
       "      <td>suistuminen vasemmalle suoralla</td>\n",
       "      <td>1</td>\n",
       "      <td>Helsinki</td>\n",
       "      <td>382543.0</td>\n",
       "      <td>6675979.0</td>\n",
       "    </tr>\n",
       "    <tr>\n",
       "      <th>2</th>\n",
       "      <td>9398457</td>\n",
       "      <td>13.09.2019</td>\n",
       "      <td>0</td>\n",
       "      <td>Ei henkilövahinkoja</td>\n",
       "      <td>8</td>\n",
       "      <td>peräänajo liikenne-esteen takia pysäht. ajoneu...</td>\n",
       "      <td>6</td>\n",
       "      <td>Helsinki</td>\n",
       "      <td>382542.0</td>\n",
       "      <td>6675979.0</td>\n",
       "    </tr>\n",
       "    <tr>\n",
       "      <th>3</th>\n",
       "      <td>9398382</td>\n",
       "      <td>22.09.2019</td>\n",
       "      <td>0</td>\n",
       "      <td>Ei henkilövahinkoja</td>\n",
       "      <td>8</td>\n",
       "      <td>peräänajo liikenne-esteen takia pysäht. ajoneu...</td>\n",
       "      <td>6</td>\n",
       "      <td>Helsinki</td>\n",
       "      <td>382540.0</td>\n",
       "      <td>6675979.0</td>\n",
       "    </tr>\n",
       "    <tr>\n",
       "      <th>4</th>\n",
       "      <td>9533397</td>\n",
       "      <td>06.12.2019</td>\n",
       "      <td>0</td>\n",
       "      <td>Ei henkilövahinkoja</td>\n",
       "      <td>82</td>\n",
       "      <td>suistuminen oik. oikealle kääntyvässä kaarteessa</td>\n",
       "      <td>1</td>\n",
       "      <td>Helsinki</td>\n",
       "      <td>382491.0</td>\n",
       "      <td>6675945.0</td>\n",
       "    </tr>\n",
       "    <tr>\n",
       "      <th>...</th>\n",
       "      <td>...</td>\n",
       "      <td>...</td>\n",
       "      <td>...</td>\n",
       "      <td>...</td>\n",
       "      <td>...</td>\n",
       "      <td>...</td>\n",
       "      <td>...</td>\n",
       "      <td>...</td>\n",
       "      <td>...</td>\n",
       "      <td>...</td>\n",
       "    </tr>\n",
       "    <tr>\n",
       "      <th>15292</th>\n",
       "      <td>9534641</td>\n",
       "      <td>27.12.2019</td>\n",
       "      <td>2</td>\n",
       "      <td>Loukkaantumiseen johtanut</td>\n",
       "      <td>80</td>\n",
       "      <td>suistuminen oikealle suoralla</td>\n",
       "      <td>1</td>\n",
       "      <td>Muonio</td>\n",
       "      <td>361920.0</td>\n",
       "      <td>7539419.0</td>\n",
       "    </tr>\n",
       "    <tr>\n",
       "      <th>15293</th>\n",
       "      <td>9534611</td>\n",
       "      <td>28.12.2019</td>\n",
       "      <td>2</td>\n",
       "      <td>Loukkaantumiseen johtanut</td>\n",
       "      <td>83</td>\n",
       "      <td>suistuminen vas. oikealle kääntyvässä kaarteessa</td>\n",
       "      <td>1</td>\n",
       "      <td>Sastamala</td>\n",
       "      <td>293592.0</td>\n",
       "      <td>6811639.0</td>\n",
       "    </tr>\n",
       "    <tr>\n",
       "      <th>15294</th>\n",
       "      <td>9533505</td>\n",
       "      <td>29.12.2019</td>\n",
       "      <td>2</td>\n",
       "      <td>Loukkaantumiseen johtanut</td>\n",
       "      <td>96</td>\n",
       "      <td>peruutusonnettomuus</td>\n",
       "      <td>13</td>\n",
       "      <td>Vantaa</td>\n",
       "      <td>394062.0</td>\n",
       "      <td>6692018.0</td>\n",
       "    </tr>\n",
       "    <tr>\n",
       "      <th>15295</th>\n",
       "      <td>9533827</td>\n",
       "      <td>30.12.2019</td>\n",
       "      <td>0</td>\n",
       "      <td>Ei henkilövahinkoja</td>\n",
       "      <td>96</td>\n",
       "      <td>peruutusonnettomuus</td>\n",
       "      <td>1</td>\n",
       "      <td>Kuopio</td>\n",
       "      <td>514489.0</td>\n",
       "      <td>6973933.0</td>\n",
       "    </tr>\n",
       "    <tr>\n",
       "      <th>15296</th>\n",
       "      <td>9533353</td>\n",
       "      <td>30.12.2019</td>\n",
       "      <td>0</td>\n",
       "      <td>Ei henkilövahinkoja</td>\n",
       "      <td>11</td>\n",
       "      <td>muu törmäys käännyttäessä oikealle</td>\n",
       "      <td>2</td>\n",
       "      <td>Vaasa</td>\n",
       "      <td>228574.0</td>\n",
       "      <td>7007564.0</td>\n",
       "    </tr>\n",
       "  </tbody>\n",
       "</table>\n",
       "<p>15297 rows × 10 columns</p>\n",
       "</div>"
      ],
      "text/plain": [
       "       Onnett_id       Päivä  Vakavuusko                   Vakavuus  Ontyyppi  \\\n",
       "0        9332527  05.02.2019           0        Ei henkilövahinkoja         8   \n",
       "1        9343914  12.06.2019           0        Ei henkilövahinkoja        81   \n",
       "2        9398457  13.09.2019           0        Ei henkilövahinkoja         8   \n",
       "3        9398382  22.09.2019           0        Ei henkilövahinkoja         8   \n",
       "4        9533397  06.12.2019           0        Ei henkilövahinkoja        82   \n",
       "...          ...         ...         ...                        ...       ...   \n",
       "15292    9534641  27.12.2019           2  Loukkaantumiseen johtanut        80   \n",
       "15293    9534611  28.12.2019           2  Loukkaantumiseen johtanut        83   \n",
       "15294    9533505  29.12.2019           2  Loukkaantumiseen johtanut        96   \n",
       "15295    9533827  30.12.2019           0        Ei henkilövahinkoja        96   \n",
       "15296    9533353  30.12.2019           0        Ei henkilövahinkoja        11   \n",
       "\n",
       "                                               Ontyypsel  Onluokka   Kuntasel  \\\n",
       "0      peräänajo liikenne-esteen takia pysäht. ajoneu...         6   Helsinki   \n",
       "1                       suistuminen vasemmalle suoralla          1   Helsinki   \n",
       "2      peräänajo liikenne-esteen takia pysäht. ajoneu...         6   Helsinki   \n",
       "3      peräänajo liikenne-esteen takia pysäht. ajoneu...         6   Helsinki   \n",
       "4       suistuminen oik. oikealle kääntyvässä kaarteessa         1   Helsinki   \n",
       "...                                                  ...       ...        ...   \n",
       "15292                     suistuminen oikealle suoralla          1     Muonio   \n",
       "15293   suistuminen vas. oikealle kääntyvässä kaarteessa         1  Sastamala   \n",
       "15294                                peruutusonnettomuus        13     Vantaa   \n",
       "15295                                peruutusonnettomuus         1     Kuopio   \n",
       "15296                muu törmäys käännyttäessä oikealle          2      Vaasa   \n",
       "\n",
       "              X          Y  \n",
       "0      382577.0  6675844.0  \n",
       "1      382543.0  6675979.0  \n",
       "2      382542.0  6675979.0  \n",
       "3      382540.0  6675979.0  \n",
       "4      382491.0  6675945.0  \n",
       "...         ...        ...  \n",
       "15292  361920.0  7539419.0  \n",
       "15293  293592.0  6811639.0  \n",
       "15294  394062.0  6692018.0  \n",
       "15295  514489.0  6973933.0  \n",
       "15296  228574.0  7007564.0  \n",
       "\n",
       "[15297 rows x 10 columns]"
      ]
     },
     "execution_count": 5,
     "metadata": {},
     "output_type": "execute_result"
    }
   ],
   "source": [
    "data\n"
   ]
  },
  {
   "cell_type": "code",
   "execution_count": 6,
   "metadata": {},
   "outputs": [],
   "source": [
    "# Select only bicycle accidents (Onluokka=8) that have happenede in Helsinki, Espoo, Vantaa or Kauniainen\n",
    "\n",
    "# Create a list for the municipalities on the map\n",
    "municipalities = [\"Helsinki\", \"Espoo\", \"Vantaa\", \"Kauniainen\"]\n",
    "\n",
    "# Filter the data by acciden type and municipality\n",
    "#data = data.loc[data[\"Kuntasel\"].isin(municipalities)]\n",
    "\n",
    "cycling = data.loc[data[\"Onluokka\"]==8]\n",
    "#walking = data.loc[data[\"Onluokka\"]==9]\n"
   ]
  },
  {
   "cell_type": "code",
   "execution_count": 7,
   "metadata": {},
   "outputs": [],
   "source": [
    "#def vakavuusko_to_colour(vakavuusko):\n",
    "#    \"\"\"Determines colour by accident severity to use in marker colour\"\"\"\n",
    "    # defaul colour\n",
    "#    colour = \"grey\"\n",
    "    \n",
    "#    if vakavuusko == 0:\n",
    "#        colour = \"yellow\"\n",
    "#    elif vakavuusko == 1:\n",
    "#        colour = \"red\"\n",
    "#    elif vakavuusko == 2:\n",
    "#        colour = \"orange\"\n",
    "#    return colour    \n",
    "        \n"
   ]
  },
  {
   "cell_type": "code",
   "execution_count": 8,
   "metadata": {},
   "outputs": [],
   "source": [
    "#cycling[\"sev_color\"] = cycling.apply(vakavuusko_to_colour(cycling[\"Vakavuusko\"]))"
   ]
  },
  {
   "cell_type": "markdown",
   "metadata": {},
   "source": [
    "Turn the data into a geodataframe"
   ]
  },
  {
   "cell_type": "code",
   "execution_count": 9,
   "metadata": {},
   "outputs": [],
   "source": [
    "# Use function from geopandas for the task\n",
    "cycling_geo = gpd.GeoDataFrame(\n",
    "    cycling, geometry=gpd.points_from_xy(cycling.X, cycling.Y), crs=\"EPSG:3067\")\n",
    "\n",
    "#walking_geo = gpd.GeoDataFrame(\n",
    "#    walking, geometry=gpd.points_from_xy(walking.X, walking.Y), crs=\"EPSG:3067\")"
   ]
  },
  {
   "cell_type": "code",
   "execution_count": 10,
   "metadata": {},
   "outputs": [],
   "source": [
    "cycling_wgs84 = cycling_geo.to_crs(epsg=4326)"
   ]
  },
  {
   "cell_type": "code",
   "execution_count": 11,
   "metadata": {},
   "outputs": [],
   "source": [
    "# Convert dataframes to GeoJSON\n",
    "cycling_gjson = folium.features.GeoJson(cycling_geo, name=\"Cycling_accidents\")\n",
    "#walking_gjson = folium.features.GeoJson(walking_geo, name=\"Pedestrian_accidents\")"
   ]
  },
  {
   "cell_type": "code",
   "execution_count": 12,
   "metadata": {},
   "outputs": [],
   "source": [
    "# Get x and y coordinates for each point\n",
    "cycling_wgs84[\"x\"] = cycling_wgs84[\"geometry\"].apply(lambda geom: geom.x)\n",
    "cycling_wgs84[\"y\"] = cycling_wgs84[\"geometry\"].apply(lambda geom: geom.y)\n",
    "\n",
    "# Create a list of coordinate pairs\n",
    "cycling_locations = list(zip(cycling_wgs84[\"y\"], cycling_wgs84[\"x\"]))"
   ]
  },
  {
   "cell_type": "code",
   "execution_count": null,
   "metadata": {},
   "outputs": [],
   "source": []
  },
  {
   "cell_type": "code",
   "execution_count": 15,
   "metadata": {},
   "outputs": [
    {
     "data": {
      "text/html": [
       "<div style=\"width:100%;\"><div style=\"position:relative;width:100%;height:0;padding-bottom:60%;\"><span style=\"color:#565656\">Make this Notebook Trusted to load map: File -> Trust Notebook</span><iframe src=\"about:blank\" style=\"position:absolute;width:100%;height:100%;left:0;top:0;border:none !important;\" data-html=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 onload=\"this.contentDocument.open();this.contentDocument.write(atob(this.getAttribute('data-html')));this.contentDocument.close();\" allowfullscreen webkitallowfullscreen mozallowfullscreen></iframe></div></div>"
      ],
      "text/plain": [
       "<folium.folium.Map at 0x7effce5f7820>"
      ]
     },
     "execution_count": 15,
     "metadata": {},
     "output_type": "execute_result"
    }
   ],
   "source": [
    "# Create a Map instance\n",
    "m = folium.Map(location=[60.2, 24.9], zoom_start=6, control_scale=True, tiles=\"CartoDB dark_matter\")\n",
    "\n",
    "HeatMap(cycling_locations).add_to(m)\n",
    "\n",
    "\n",
    "m"
   ]
  },
  {
   "cell_type": "code",
   "execution_count": null,
   "metadata": {},
   "outputs": [],
   "source": []
  }
 ],
 "metadata": {
  "kernelspec": {
   "display_name": "Python 3",
   "language": "python",
   "name": "python3"
  },
  "language_info": {
   "codemirror_mode": {
    "name": "ipython",
    "version": 3
   },
   "file_extension": ".py",
   "mimetype": "text/x-python",
   "name": "python",
   "nbconvert_exporter": "python",
   "pygments_lexer": "ipython3",
   "version": "3.8.6"
  }
 },
 "nbformat": 4,
 "nbformat_minor": 4
}
