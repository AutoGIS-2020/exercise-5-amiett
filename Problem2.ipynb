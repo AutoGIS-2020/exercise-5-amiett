{
 "cells": [
  {
   "cell_type": "markdown",
   "metadata": {},
   "source": [
    "# Problem 2\n",
    "A heatmap of pedestrian and cycling accidents in Finland in 2019"
   ]
  },
  {
   "cell_type": "code",
   "execution_count": 1,
   "metadata": {},
   "outputs": [],
   "source": [
    "import pandas as pd\n",
    "import geopandas as gpd\n",
    "from pyproj import CRS\n",
    "from shapely.geometry import Point\n",
    "import folium\n",
    "from folium.plugins import HeatMap"
   ]
  },
  {
   "cell_type": "code",
   "execution_count": 2,
   "metadata": {},
   "outputs": [],
   "source": [
    "# Import the data, select columns that are needed\n",
    "fp =\"data/tieliikenneonnettomuudet_2019_onnettomuus.csv\"\n",
    "data = pd.read_csv(fp, delimiter=\";\", usecols=[\"Onnett_id\", \"X\", \"Y\", \"Onluokka\"])"
   ]
  },
  {
   "cell_type": "code",
   "execution_count": 3,
   "metadata": {},
   "outputs": [
    {
     "data": {
      "text/plain": [
       "Onnett_id      int64\n",
       "Onluokka       int64\n",
       "X            float64\n",
       "Y            float64\n",
       "dtype: object"
      ]
     },
     "execution_count": 3,
     "metadata": {},
     "output_type": "execute_result"
    }
   ],
   "source": [
    "data.dtypes"
   ]
  },
  {
   "cell_type": "code",
   "execution_count": 4,
   "metadata": {},
   "outputs": [],
   "source": [
    "# Select bicycle and pedestrian accidents (Onluokka=8 & 9) and put them into their own dfs\n",
    "\n",
    "cycling = data.loc[data[\"Onluokka\"]==8]\n",
    "walking = data.loc[data[\"Onluokka\"]==9]\n"
   ]
  },
  {
   "cell_type": "markdown",
   "metadata": {},
   "source": [
    "Turn the data into a geodataframe"
   ]
  },
  {
   "cell_type": "code",
   "execution_count": 5,
   "metadata": {},
   "outputs": [],
   "source": [
    "# Use function from geopandas for the task\n",
    "cycling_geo = gpd.GeoDataFrame(\n",
    "    cycling, geometry=gpd.points_from_xy(cycling.X, cycling.Y), crs=\"EPSG:3067\")\n",
    "\n",
    "walking_geo = gpd.GeoDataFrame(\n",
    "    walking, geometry=gpd.points_from_xy(walking.X, walking.Y), crs=\"EPSG:3067\")"
   ]
  },
  {
   "cell_type": "code",
   "execution_count": 6,
   "metadata": {},
   "outputs": [],
   "source": [
    "cycling_wgs84 = cycling_geo.to_crs(epsg=4326)\n",
    "walking_wgs84 = walking_geo.to_crs(epsg=4326)"
   ]
  },
  {
   "cell_type": "code",
   "execution_count": 7,
   "metadata": {},
   "outputs": [],
   "source": [
    "# Convert dataframes to GeoJSON\n",
    "#cycling_gjson = folium.features.GeoJson(cycling_geo, name=\"Cycling_accidents\")\n",
    "#walking_gjson = folium.features.GeoJson(walking_geo, name=\"Pedestrian_accidents\")"
   ]
  },
  {
   "cell_type": "code",
   "execution_count": 8,
   "metadata": {},
   "outputs": [],
   "source": [
    "# Get x and y coordinates for each point\n",
    "cycling_wgs84[\"x\"] = cycling_wgs84[\"geometry\"].apply(lambda geom: geom.x)\n",
    "cycling_wgs84[\"y\"] = cycling_wgs84[\"geometry\"].apply(lambda geom: geom.y)\n",
    "\n",
    "# Create a list of coordinate pairs\n",
    "cycling_locations = list(zip(cycling_wgs84[\"y\"], cycling_wgs84[\"x\"]))\n",
    "\n",
    "\n",
    "# Get x and y coordinates for each point\n",
    "walking_wgs84[\"x\"] = walking_wgs84[\"geometry\"].apply(lambda geom: geom.x)\n",
    "walking_wgs84[\"y\"] = walking_wgs84[\"geometry\"].apply(lambda geom: geom.y)\n",
    "\n",
    "# Create a list of coordinate pairs\n",
    "walking_locations = list(zip(walking_wgs84[\"y\"], walking_wgs84[\"x\"]))"
   ]
  },
  {
   "cell_type": "code",
   "execution_count": null,
   "metadata": {},
   "outputs": [],
   "source": []
  },
  {
   "cell_type": "code",
   "execution_count": 31,
   "metadata": {},
   "outputs": [
    {
     "ename": "SyntaxError",
     "evalue": "invalid syntax (<ipython-input-31-23c59aee0f36>, line 8)",
     "output_type": "error",
     "traceback": [
      "\u001b[0;36m  File \u001b[0;32m\"<ipython-input-31-23c59aee0f36>\"\u001b[0;36m, line \u001b[0;32m8\u001b[0m\n\u001b[0;31m    title_html = r\"<h3 align=\"center\" style=\"font-size:16px\"><b>{}</b></h3>\".format(loc)\u001b[0m\n\u001b[0m                              ^\u001b[0m\n\u001b[0;31mSyntaxError\u001b[0m\u001b[0;31m:\u001b[0m invalid syntax\n"
     ]
    }
   ],
   "source": [
    "# Create a Map instance\n",
    "m = folium.Map(location=[63.2, 24.9], \n",
    "               zoom_start=6, \n",
    "               control_scale=True, \n",
    "               tiles = \"CartoDB dark_matter\",\n",
    "               name = \"Cycling and pedestrian road accidents 2019\",\n",
    "               attr = \"CC-BY 4.0 Väylävirasto\",\n",
    "               title_html = r\"<h3 align=\"center\" style=\"font-size:16px\"><b>{}</b></h3>\".format(loc)\n",
    "               \n",
    "              )\n",
    "\n",
    "# Make heatmaps for cycling and walking, add them to their own feature groups and to the map\n",
    "HeatMap(cycling_locations).add_to(folium.FeatureGroup(name = \"Cycling accidents\").add_to(m))\n",
    "# Make the other heatmap off by default to make the map less busy\n",
    "HeatMap(walking_locations).add_to(folium.FeatureGroup(name = \"Pedestrian accidents\", show = False).add_to(m))\n",
    "\n",
    "# Turn layer control on\n",
    "folium.LayerControl().add_to(m)\n",
    "\n",
    "\n",
    "m"
   ]
  },
  {
   "cell_type": "code",
   "execution_count": 25,
   "metadata": {},
   "outputs": [],
   "source": [
    "outfp = \"accidents_map_2019.html\"\n",
    "m.save(outfp)"
   ]
  },
  {
   "cell_type": "code",
   "execution_count": null,
   "metadata": {},
   "outputs": [],
   "source": []
  }
 ],
 "metadata": {
  "kernelspec": {
   "display_name": "Python 3",
   "language": "python",
   "name": "python3"
  },
  "language_info": {
   "codemirror_mode": {
    "name": "ipython",
    "version": 3
   },
   "file_extension": ".py",
   "mimetype": "text/x-python",
   "name": "python",
   "nbconvert_exporter": "python",
   "pygments_lexer": "ipython3",
   "version": "3.8.6"
  }
 },
 "nbformat": 4,
 "nbformat_minor": 4
}
